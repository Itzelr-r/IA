{
  "nbformat": 4,
  "nbformat_minor": 0,
  "metadata": {
    "colab": {
      "name": "Tarea1.ipynb",
      "provenance": [],
      "authorship_tag": "ABX9TyOKb8DxKuzwWJRFX0sxgPGH",
      "include_colab_link": true
    },
    "kernelspec": {
      "name": "python3",
      "display_name": "Python 3"
    },
    "language_info": {
      "name": "python"
    }
  },
  "cells": [
    {
      "cell_type": "markdown",
      "metadata": {
        "id": "view-in-github",
        "colab_type": "text"
      },
      "source": [
        "<a href=\"https://colab.research.google.com/github/Itzelr-r/IA/blob/t1/Tarea1.ipynb\" target=\"_parent\"><img src=\"https://colab.research.google.com/assets/colab-badge.svg\" alt=\"Open In Colab\"/></a>"
      ]
    },
    {
      "cell_type": "code",
      "source": [
        "horas = float(input(\"Ingrese el numero de horas: \"))\n",
        "\n",
        "tarifa = float(input(\"Ingrese la tarifa por hora: \"))\n",
        "\n",
        "print(\"Pago: \", horas*tarifa)"
      ],
      "metadata": {
        "colab": {
          "base_uri": "https://localhost:8080/"
        },
        "id": "hoO5clNl9QZg",
        "outputId": "662bf5e1-727b-4474-aacf-82b1bc7e704f"
      },
      "execution_count": null,
      "outputs": [
        {
          "output_type": "stream",
          "name": "stdout",
          "text": [
            "Ingrese el numero de horas: 35\n",
            "Ingrese la tarifa por hora: 2.75\n",
            "Pago:  96.25\n"
          ]
        }
      ]
    },
    {
      "cell_type": "code",
      "source": [
        "width = int(17)\n",
        "height = float(12.0) \n",
        "\n",
        "num1 = width / 2\n",
        "print(\"width / 2 = \", num1)\n",
        "print(\"Tipo de dato: \",type(num1))\n",
        "\n",
        "num2 = width / 2.0\n",
        "print(\"\\nwidth / 2.0 = \", num2)\n",
        "print(\"Tipo de dato: \",type(num2))\n",
        "\n",
        "num3 = height / 3\n",
        "print(\"\\nheight / 3 = \", num3)\n",
        "print(\"Tipo de dato: \",type(num3))\n",
        "\n",
        "num4 = 1+(2*5)\n",
        "print(\"\\n1+(2*5) = \", num4)\n",
        "print(\"Tipo de dato: \",type(num4))"
      ],
      "metadata": {
        "colab": {
          "base_uri": "https://localhost:8080/"
        },
        "id": "JR93i5Ia9Y8e",
        "outputId": "32dcda9a-4f5c-4105-bb33-6559734e6cd5"
      },
      "execution_count": null,
      "outputs": [
        {
          "output_type": "stream",
          "name": "stdout",
          "text": [
            "width / 2 =  8.5\n",
            "Tipo de dato:  <class 'float'>\n",
            "\n",
            "width / 2.0 =  8.5\n",
            "Tipo de dato:  <class 'float'>\n",
            "\n",
            "height / 3 =  4.0\n",
            "Tipo de dato:  <class 'float'>\n",
            "\n",
            "1+(2*5) =  11\n",
            "Tipo de dato:  <class 'int'>\n"
          ]
        }
      ]
    },
    {
      "cell_type": "code",
      "execution_count": null,
      "metadata": {
        "colab": {
          "base_uri": "https://localhost:8080/"
        },
        "id": "gz1NbwOw8mQ0",
        "outputId": "4357fd88-54c0-4185-ee08-59231f9945ac"
      },
      "outputs": [
        {
          "output_type": "stream",
          "name": "stdout",
          "text": [
            "\n",
            "Ingrese la temperatura en grados celsius: 42.5\n",
            "Temperatura en grados fahrenheit:  108.5\n"
          ]
        }
      ],
      "source": [
        "celsius = float(input(\"\\nIngrese la temperatura en grados celsius: \"))\n",
        "\n",
        "fahrenheit =  (celsius * 1.8) + 32\n",
        "\n",
        "print(\"Temperatura en grados fahrenheit: \", fahrenheit)"
      ]
    }
  ]
}