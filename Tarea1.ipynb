{
  "nbformat": 4,
  "nbformat_minor": 0,
  "metadata": {
    "colab": {
      "name": "Tarea1.ipynb",
      "provenance": [],
      "authorship_tag": "ABX9TyMfoSO84FE+MW0hlXI+oI/J",
      "include_colab_link": true
    },
    "kernelspec": {
      "name": "python3",
      "display_name": "Python 3"
    },
    "language_info": {
      "name": "python"
    }
  },
  "cells": [
    {
      "cell_type": "markdown",
      "metadata": {
        "id": "view-in-github",
        "colab_type": "text"
      },
      "source": [
        "<a href=\"https://colab.research.google.com/github/Itzelr-r/IA/blob/t1/Tarea1.ipynb\" target=\"_parent\"><img src=\"https://colab.research.google.com/assets/colab-badge.svg\" alt=\"Open In Colab\"/></a>"
      ]
    },
    {
      "cell_type": "code",
      "execution_count": null,
      "metadata": {
        "colab": {
          "base_uri": "https://localhost:8080/"
        },
        "id": "gz1NbwOw8mQ0",
        "outputId": "4357fd88-54c0-4185-ee08-59231f9945ac"
      },
      "outputs": [
        {
          "output_type": "stream",
          "name": "stdout",
          "text": [
            "\n",
            "Ingrese la temperatura en grados celsius: 42.5\n",
            "Temperatura en grados fahrenheit:  108.5\n"
          ]
        }
      ],
      "source": [
        "celsius = float(input(\"\\nIngrese la temperatura en grados celsius: \"))\n",
        "\n",
        "fahrenheit =  (celsius * 1.8) + 32\n",
        "\n",
        "print(\"Temperatura en grados fahrenheit: \", fahrenheit)"
      ]
    }
  ]
}